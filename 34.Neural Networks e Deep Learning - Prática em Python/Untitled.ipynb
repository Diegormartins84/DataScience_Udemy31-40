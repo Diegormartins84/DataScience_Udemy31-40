{
 "cells": [
  {
   "cell_type": "code",
   "execution_count": null,
   "id": "8c77702f-8d90-4a0e-8a3c-a1d66c417614",
   "metadata": {},
   "outputs": [],
   "source": [
    "# Resolução do exercício"
   ]
  },
  {
   "cell_type": "code",
   "execution_count": null,
   "id": "64dd612e-fe4e-451d-831b-15df8cfb6d00",
   "metadata": {},
   "outputs": [],
   "source": [
    "import pandas as pd\n",
    "from sklearn.preprocessing import LabelEncoder\n",
    "from sklearn.model_selection import train_test_split\n",
    "from sklearn.ensemble import RandomForestClassifier\n",
    "from sklearn.metrics import confusion_matrix, accuracy_score"
   ]
  },
  {
   "cell_type": "code",
   "execution_count": null,
   "id": "9442ea64-ff45-43d1-afce-c4869ef3b3f1",
   "metadata": {},
   "outputs": [],
   "source": []
  }
 ],
 "metadata": {
  "kernelspec": {
   "display_name": "Python (ds_env)",
   "language": "python",
   "name": "ds_env"
  },
  "language_info": {
   "codemirror_mode": {
    "name": "ipython",
    "version": 3
   },
   "file_extension": ".py",
   "mimetype": "text/x-python",
   "name": "python",
   "nbconvert_exporter": "python",
   "pygments_lexer": "ipython3",
   "version": "3.9.23"
  }
 },
 "nbformat": 4,
 "nbformat_minor": 5
}
